{
  "nbformat": 4,
  "nbformat_minor": 0,
  "metadata": {
    "colab": {
      "provenance": [],
      "authorship_tag": "ABX9TyOnKG2btUSp3wpAP7isO34P",
      "include_colab_link": true
    },
    "kernelspec": {
      "name": "python3",
      "display_name": "Python 3"
    },
    "language_info": {
      "name": "python"
    }
  },
  "cells": [
    {
      "cell_type": "markdown",
      "metadata": {
        "id": "view-in-github",
        "colab_type": "text"
      },
      "source": [
        "<a href=\"https://colab.research.google.com/github/pavanyendluri588/Face_Recognition_System/blob/master/cnn_basic.ipynb\" target=\"_parent\"><img src=\"https://colab.research.google.com/assets/colab-badge.svg\" alt=\"Open In Colab\"/></a>"
      ]
    },
    {
      "cell_type": "code",
      "execution_count": 1,
      "metadata": {
        "id": "wlCZacky_eDV"
      },
      "outputs": [],
      "source": [
        "import tensorflow as tf \n",
        "from tensorflow.keras import layers,models,datasets\n",
        "from matplotlib import pyplot as plt "
      ]
    },
    {
      "cell_type": "code",
      "source": [
        "(x_train,y_train),(x_test,y_test)= datasets.cifar10.load_data()"
      ],
      "metadata": {
        "colab": {
          "base_uri": "https://localhost:8080/"
        },
        "id": "jrvuWMU8_lU2",
        "outputId": "f9578c98-1f21-4a8e-94b0-feff942ef19b"
      },
      "execution_count": 2,
      "outputs": [
        {
          "output_type": "stream",
          "name": "stdout",
          "text": [
            "Downloading data from https://www.cs.toronto.edu/~kriz/cifar-10-python.tar.gz\n",
            "170498071/170498071 [==============================] - 4s 0us/step\n"
          ]
        }
      ]
    },
    {
      "cell_type": "code",
      "source": [
        "import cv2\n",
        "class_names = ['airplane', 'automobile', 'bird', 'cat', 'deer',\n",
        "               'dog', 'frog', 'horse', 'ship', 'truck']\n",
        "plt.figure(figsize=(10,10))\n",
        "for i in range(25):\n",
        "    plt.subplot(5,5,i+1)\n",
        "    plt.imshow(x_train[i])\n",
        "    plt.xlabel(class_names[y_train[i][0]])\n",
        "    plt.ylabel(\"\")\n",
        "plt.show()\n",
        "\n"
      ],
      "metadata": {
        "id": "aV3FW2wW_m3v"
      },
      "execution_count": null,
      "outputs": []
    },
    {
      "cell_type": "code",
      "source": [
        "import pandas as pd\n",
        "\n",
        "cnn_model= models.Sequential()\n",
        "cnn_model.add(layers.Conv2D(32,(3,3),activation=\"relu\",input_shape=(32,32,3)))\n",
        "cnn_model.add(layers.MaxPooling2D((2,2)))\n",
        "cnn_model.add(layers.Conv2D(64,(3,3),activation=\"relu\"))\n",
        "cnn_model.add(layers.MaxPooling2D((2,2)))\n",
        "cnn_model.add(layers.Conv2D(64,(4,4),activation=\"relu\"))\n",
        "cnn_model.add(layers.Flatten())\n",
        "cnn_model.add(layers.Dense(30,activation=\"relu\"))\n",
        "cnn_model.add(layers.Dense(15,activation=\"relu\"))\n",
        "cnn_model.add(layers.Dense(10,activation=\"relu\"))"
      ],
      "metadata": {
        "id": "SJvmJFSW_mzr"
      },
      "execution_count": 4,
      "outputs": []
    },
    {
      "cell_type": "code",
      "source": [
        "cnn_model.summary()"
      ],
      "metadata": {
        "colab": {
          "base_uri": "https://localhost:8080/"
        },
        "id": "PafABSQg_mxL",
        "outputId": "859855af-baab-42c4-e2ef-966a89bfe4ff"
      },
      "execution_count": 5,
      "outputs": [
        {
          "output_type": "stream",
          "name": "stdout",
          "text": [
            "Model: \"sequential\"\n",
            "_________________________________________________________________\n",
            " Layer (type)                Output Shape              Param #   \n",
            "=================================================================\n",
            " conv2d (Conv2D)             (None, 30, 30, 32)        896       \n",
            "                                                                 \n",
            " max_pooling2d (MaxPooling2D  (None, 15, 15, 32)       0         \n",
            " )                                                               \n",
            "                                                                 \n",
            " conv2d_1 (Conv2D)           (None, 13, 13, 64)        18496     \n",
            "                                                                 \n",
            " max_pooling2d_1 (MaxPooling  (None, 6, 6, 64)         0         \n",
            " 2D)                                                             \n",
            "                                                                 \n",
            " conv2d_2 (Conv2D)           (None, 3, 3, 64)          65600     \n",
            "                                                                 \n",
            " flatten (Flatten)           (None, 576)               0         \n",
            "                                                                 \n",
            " dense (Dense)               (None, 30)                17310     \n",
            "                                                                 \n",
            " dense_1 (Dense)             (None, 15)                465       \n",
            "                                                                 \n",
            " dense_2 (Dense)             (None, 10)                160       \n",
            "                                                                 \n",
            "=================================================================\n",
            "Total params: 102,927\n",
            "Trainable params: 102,927\n",
            "Non-trainable params: 0\n",
            "_________________________________________________________________\n"
          ]
        }
      ]
    },
    {
      "cell_type": "code",
      "source": [],
      "metadata": {
        "id": "lgEg66P9_2zf"
      },
      "execution_count": null,
      "outputs": []
    },
    {
      "cell_type": "code",
      "source": [
        "cnn_model.compile(optimizer=\"adam\",loss=tf.keras.losses.SparseCategoricalCrossentropy(from_logits=True),metrics=[\"accuracy\"])\n",
        "model_fit_data=cnn_model.fit(x_train,y_train,epochs=10,validation_data=(x_test,y_test))"
      ],
      "metadata": {
        "colab": {
          "base_uri": "https://localhost:8080/"
        },
        "id": "Qkqo6uBJ_mtM",
        "outputId": "c1e56038-7e9f-46d3-ffa9-6215145e98ca"
      },
      "execution_count": 6,
      "outputs": [
        {
          "output_type": "stream",
          "name": "stdout",
          "text": [
            "Epoch 1/10\n",
            "1563/1563 [==============================] - 83s 52ms/step - loss: 2.0882 - accuracy: 0.2542 - val_loss: 1.7820 - val_accuracy: 0.3723\n",
            "Epoch 2/10\n",
            "1563/1563 [==============================] - 72s 46ms/step - loss: 1.6542 - accuracy: 0.4141 - val_loss: 1.5380 - val_accuracy: 0.4701\n",
            "Epoch 3/10\n",
            "1563/1563 [==============================] - 72s 46ms/step - loss: 1.4653 - accuracy: 0.4888 - val_loss: 1.4429 - val_accuracy: 0.4941\n",
            "Epoch 4/10\n",
            "1563/1563 [==============================] - 71s 45ms/step - loss: 1.3553 - accuracy: 0.5296 - val_loss: 1.3357 - val_accuracy: 0.5344\n",
            "Epoch 5/10\n",
            "1563/1563 [==============================] - 73s 47ms/step - loss: 1.2609 - accuracy: 0.5624 - val_loss: 1.2958 - val_accuracy: 0.5509\n",
            "Epoch 6/10\n",
            "1563/1563 [==============================] - 70s 45ms/step - loss: 1.1864 - accuracy: 0.5884 - val_loss: 1.2302 - val_accuracy: 0.5794\n",
            "Epoch 7/10\n",
            "1563/1563 [==============================] - 72s 46ms/step - loss: 1.1237 - accuracy: 0.6091 - val_loss: 1.2339 - val_accuracy: 0.5866\n",
            "Epoch 8/10\n",
            "1563/1563 [==============================] - 70s 45ms/step - loss: 1.0697 - accuracy: 0.6288 - val_loss: 1.2808 - val_accuracy: 0.5721\n",
            "Epoch 9/10\n",
            "1563/1563 [==============================] - 72s 46ms/step - loss: 1.0227 - accuracy: 0.6423 - val_loss: 1.2161 - val_accuracy: 0.5881\n",
            "Epoch 10/10\n",
            "1563/1563 [==============================] - 72s 46ms/step - loss: 0.9757 - accuracy: 0.6584 - val_loss: 1.2273 - val_accuracy: 0.5959\n"
          ]
        }
      ]
    },
    {
      "cell_type": "code",
      "source": [
        "plt.plot(model_fit_data.history[\"accuracy\"],label=\"accuracy\")\n",
        "plt.plot(model_fit_data.history[\"val_accuracy\"],label=\"val_accuracy\")\n",
        "plt.xlabel(\"epoch\")\n",
        "plt.ylabel(\"accuracy\")\n",
        "plt.legend(loc=\"lower right\")\n",
        "plt.show()"
      ],
      "metadata": {
        "colab": {
          "base_uri": "https://localhost:8080/",
          "height": 449
        },
        "id": "QvTvxf8S_mq0",
        "outputId": "106f3542-c15c-4fdb-831a-ef5972902b5c"
      },
      "execution_count": 9,
      "outputs": [
        {
          "output_type": "display_data",
          "data": {
            "text/plain": [
              "<Figure size 640x480 with 1 Axes>"
            ],
            "image/png": "[encoded data removed]"
          },
          "metadata": {}
        }
      ]
    },
    {
      "cell_type": "code",
      "source": [],
      "metadata": {
        "id": "a63jR1rk_mnM"
      },
      "execution_count": null,
      "outputs": []
    },
    {
      "cell_type": "code",
      "source": [],
      "metadata": {
        "id": "qcDhZ438_mkL"
      },
      "execution_count": null,
      "outputs": []
    },
    {
      "cell_type": "code",
      "source": [],
      "metadata": {
        "id": "-SaFx9It_mhK"
      },
      "execution_count": null,
      "outputs": []
    }
  ]
}